{
 "cells": [
  {
   "cell_type": "code",
   "execution_count": 1,
   "metadata": {},
   "outputs": [],
   "source": [
    "# Build a multivariate Ordinary Least Squares regression model to predict \"TARGET_deathRate\"\n",
    "# Include the output with (adjusted) R-squared and Root Mean Squared Error (RMSE)\n",
    "\n",
    "# Other requirements \n",
    "# Assess linearity of model (parameters)\n",
    "# Assess serial independence of errors\n",
    "# Assess heteroskedasticity\n",
    "# Assess normality of residual distribution\n",
    "# Assess multicollinearity\n",
    "\n",
    "# Outliers? Missing values? Categorical variables?"
   ]
  },
  {
   "cell_type": "code",
   "execution_count": 2,
   "metadata": {},
   "outputs": [],
   "source": [
    "import pandas as pd\n",
    "import seaborn as sns\n",
    "import sklearn as sk\n",
    "import matplotlib as plt"
   ]
  },
  {
   "cell_type": "code",
   "execution_count": 3,
   "metadata": {},
   "outputs": [],
   "source": [
    "df = pd.read_csv('/Users/schottmadison/DSDJ/cancer_prediction/cancer_reg.csv')"
   ]
  },
  {
   "cell_type": "code",
   "execution_count": 12,
   "metadata": {},
   "outputs": [
    {
     "data": {
      "text/html": [
       "<div>\n",
       "<style scoped>\n",
       "    .dataframe tbody tr th:only-of-type {\n",
       "        vertical-align: middle;\n",
       "    }\n",
       "\n",
       "    .dataframe tbody tr th {\n",
       "        vertical-align: top;\n",
       "    }\n",
       "\n",
       "    .dataframe thead th {\n",
       "        text-align: right;\n",
       "    }\n",
       "</style>\n",
       "<table border=\"1\" class=\"dataframe\">\n",
       "  <thead>\n",
       "    <tr style=\"text-align: right;\">\n",
       "      <th></th>\n",
       "      <th>avgAnnCount</th>\n",
       "      <th>avgDeathsPerYear</th>\n",
       "      <th>TARGET_deathRate</th>\n",
       "      <th>incidenceRate</th>\n",
       "      <th>medIncome</th>\n",
       "      <th>popEst2015</th>\n",
       "      <th>povertyPercent</th>\n",
       "      <th>studyPerCap</th>\n",
       "      <th>binnedInc</th>\n",
       "      <th>MedianAge</th>\n",
       "      <th>...</th>\n",
       "      <th>PctPrivateCoverageAlone</th>\n",
       "      <th>PctEmpPrivCoverage</th>\n",
       "      <th>PctPublicCoverage</th>\n",
       "      <th>PctPublicCoverageAlone</th>\n",
       "      <th>PctWhite</th>\n",
       "      <th>PctBlack</th>\n",
       "      <th>PctAsian</th>\n",
       "      <th>PctOtherRace</th>\n",
       "      <th>PctMarriedHouseholds</th>\n",
       "      <th>BirthRate</th>\n",
       "    </tr>\n",
       "  </thead>\n",
       "  <tbody>\n",
       "    <tr>\n",
       "      <th>0</th>\n",
       "      <td>1397.0</td>\n",
       "      <td>469</td>\n",
       "      <td>164.9</td>\n",
       "      <td>489.8</td>\n",
       "      <td>61898</td>\n",
       "      <td>260131</td>\n",
       "      <td>11.2</td>\n",
       "      <td>499.748204</td>\n",
       "      <td>(61494.5, 125635]</td>\n",
       "      <td>39.3</td>\n",
       "      <td>...</td>\n",
       "      <td>NaN</td>\n",
       "      <td>41.6</td>\n",
       "      <td>32.9</td>\n",
       "      <td>14.0</td>\n",
       "      <td>81.780529</td>\n",
       "      <td>2.594728</td>\n",
       "      <td>4.821857</td>\n",
       "      <td>1.843479</td>\n",
       "      <td>52.856076</td>\n",
       "      <td>6.118831</td>\n",
       "    </tr>\n",
       "    <tr>\n",
       "      <th>1</th>\n",
       "      <td>173.0</td>\n",
       "      <td>70</td>\n",
       "      <td>161.3</td>\n",
       "      <td>411.6</td>\n",
       "      <td>48127</td>\n",
       "      <td>43269</td>\n",
       "      <td>18.6</td>\n",
       "      <td>23.111234</td>\n",
       "      <td>(48021.6, 51046.4]</td>\n",
       "      <td>33.0</td>\n",
       "      <td>...</td>\n",
       "      <td>53.8</td>\n",
       "      <td>43.6</td>\n",
       "      <td>31.1</td>\n",
       "      <td>15.3</td>\n",
       "      <td>89.228509</td>\n",
       "      <td>0.969102</td>\n",
       "      <td>2.246233</td>\n",
       "      <td>3.741352</td>\n",
       "      <td>45.372500</td>\n",
       "      <td>4.333096</td>\n",
       "    </tr>\n",
       "    <tr>\n",
       "      <th>2</th>\n",
       "      <td>102.0</td>\n",
       "      <td>50</td>\n",
       "      <td>174.7</td>\n",
       "      <td>349.7</td>\n",
       "      <td>49348</td>\n",
       "      <td>21026</td>\n",
       "      <td>14.6</td>\n",
       "      <td>47.560164</td>\n",
       "      <td>(48021.6, 51046.4]</td>\n",
       "      <td>45.0</td>\n",
       "      <td>...</td>\n",
       "      <td>43.5</td>\n",
       "      <td>34.9</td>\n",
       "      <td>42.1</td>\n",
       "      <td>21.1</td>\n",
       "      <td>90.922190</td>\n",
       "      <td>0.739673</td>\n",
       "      <td>0.465898</td>\n",
       "      <td>2.747358</td>\n",
       "      <td>54.444868</td>\n",
       "      <td>3.729488</td>\n",
       "    </tr>\n",
       "    <tr>\n",
       "      <th>3</th>\n",
       "      <td>427.0</td>\n",
       "      <td>202</td>\n",
       "      <td>194.8</td>\n",
       "      <td>430.4</td>\n",
       "      <td>44243</td>\n",
       "      <td>75882</td>\n",
       "      <td>17.1</td>\n",
       "      <td>342.637253</td>\n",
       "      <td>(42724.4, 45201]</td>\n",
       "      <td>42.8</td>\n",
       "      <td>...</td>\n",
       "      <td>40.3</td>\n",
       "      <td>35.0</td>\n",
       "      <td>45.3</td>\n",
       "      <td>25.0</td>\n",
       "      <td>91.744686</td>\n",
       "      <td>0.782626</td>\n",
       "      <td>1.161359</td>\n",
       "      <td>1.362643</td>\n",
       "      <td>51.021514</td>\n",
       "      <td>4.603841</td>\n",
       "    </tr>\n",
       "    <tr>\n",
       "      <th>4</th>\n",
       "      <td>57.0</td>\n",
       "      <td>26</td>\n",
       "      <td>144.4</td>\n",
       "      <td>350.1</td>\n",
       "      <td>49955</td>\n",
       "      <td>10321</td>\n",
       "      <td>12.5</td>\n",
       "      <td>0.000000</td>\n",
       "      <td>(48021.6, 51046.4]</td>\n",
       "      <td>48.3</td>\n",
       "      <td>...</td>\n",
       "      <td>43.9</td>\n",
       "      <td>35.1</td>\n",
       "      <td>44.0</td>\n",
       "      <td>22.7</td>\n",
       "      <td>94.104024</td>\n",
       "      <td>0.270192</td>\n",
       "      <td>0.665830</td>\n",
       "      <td>0.492135</td>\n",
       "      <td>54.027460</td>\n",
       "      <td>6.796657</td>\n",
       "    </tr>\n",
       "  </tbody>\n",
       "</table>\n",
       "<p>5 rows × 34 columns</p>\n",
       "</div>"
      ],
      "text/plain": [
       "   avgAnnCount  avgDeathsPerYear  TARGET_deathRate  incidenceRate  medIncome  \\\n",
       "0       1397.0               469             164.9          489.8      61898   \n",
       "1        173.0                70             161.3          411.6      48127   \n",
       "2        102.0                50             174.7          349.7      49348   \n",
       "3        427.0               202             194.8          430.4      44243   \n",
       "4         57.0                26             144.4          350.1      49955   \n",
       "\n",
       "   popEst2015  povertyPercent  studyPerCap           binnedInc  MedianAge  \\\n",
       "0      260131            11.2   499.748204   (61494.5, 125635]       39.3   \n",
       "1       43269            18.6    23.111234  (48021.6, 51046.4]       33.0   \n",
       "2       21026            14.6    47.560164  (48021.6, 51046.4]       45.0   \n",
       "3       75882            17.1   342.637253    (42724.4, 45201]       42.8   \n",
       "4       10321            12.5     0.000000  (48021.6, 51046.4]       48.3   \n",
       "\n",
       "     ...      PctPrivateCoverageAlone  PctEmpPrivCoverage PctPublicCoverage  \\\n",
       "0    ...                          NaN                41.6              32.9   \n",
       "1    ...                         53.8                43.6              31.1   \n",
       "2    ...                         43.5                34.9              42.1   \n",
       "3    ...                         40.3                35.0              45.3   \n",
       "4    ...                         43.9                35.1              44.0   \n",
       "\n",
       "   PctPublicCoverageAlone   PctWhite  PctBlack  PctAsian  PctOtherRace  \\\n",
       "0                    14.0  81.780529  2.594728  4.821857      1.843479   \n",
       "1                    15.3  89.228509  0.969102  2.246233      3.741352   \n",
       "2                    21.1  90.922190  0.739673  0.465898      2.747358   \n",
       "3                    25.0  91.744686  0.782626  1.161359      1.362643   \n",
       "4                    22.7  94.104024  0.270192  0.665830      0.492135   \n",
       "\n",
       "   PctMarriedHouseholds  BirthRate  \n",
       "0             52.856076   6.118831  \n",
       "1             45.372500   4.333096  \n",
       "2             54.444868   3.729488  \n",
       "3             51.021514   4.603841  \n",
       "4             54.027460   6.796657  \n",
       "\n",
       "[5 rows x 34 columns]"
      ]
     },
     "execution_count": 12,
     "metadata": {},
     "output_type": "execute_result"
    }
   ],
   "source": [
    "df.head()"
   ]
  },
  {
   "cell_type": "code",
   "execution_count": 13,
   "metadata": {},
   "outputs": [
    {
     "data": {
      "text/plain": [
       "(3047, 34)"
      ]
     },
     "execution_count": 13,
     "metadata": {},
     "output_type": "execute_result"
    }
   ],
   "source": [
    "df.shape"
   ]
  },
  {
   "cell_type": "code",
   "execution_count": 5,
   "metadata": {
    "scrolled": true
   },
   "outputs": [
    {
     "data": {
      "text/plain": [
       "avgAnnCount                   0\n",
       "avgDeathsPerYear              0\n",
       "TARGET_deathRate              0\n",
       "incidenceRate                 0\n",
       "medIncome                     0\n",
       "popEst2015                    0\n",
       "povertyPercent                0\n",
       "studyPerCap                   0\n",
       "binnedInc                     0\n",
       "MedianAge                     0\n",
       "MedianAgeMale                 0\n",
       "MedianAgeFemale               0\n",
       "Geography                     0\n",
       "AvgHouseholdSize              0\n",
       "PercentMarried                0\n",
       "PctNoHS18_24                  0\n",
       "PctHS18_24                    0\n",
       "PctSomeCol18_24            2285\n",
       "PctBachDeg18_24               0\n",
       "PctHS25_Over                  0\n",
       "PctBachDeg25_Over             0\n",
       "PctEmployed16_Over          152\n",
       "PctUnemployed16_Over          0\n",
       "PctPrivateCoverage            0\n",
       "PctPrivateCoverageAlone     609\n",
       "PctEmpPrivCoverage            0\n",
       "PctPublicCoverage             0\n",
       "PctPublicCoverageAlone        0\n",
       "PctWhite                      0\n",
       "PctBlack                      0\n",
       "PctAsian                      0\n",
       "PctOtherRace                  0\n",
       "PctMarriedHouseholds          0\n",
       "BirthRate                     0\n",
       "dtype: int64"
      ]
     },
     "execution_count": 5,
     "metadata": {},
     "output_type": "execute_result"
    }
   ],
   "source": [
    "df.isna().sum()"
   ]
  },
  {
   "cell_type": "code",
   "execution_count": 1,
   "metadata": {},
   "outputs": [],
   "source": [
    "# drop PctSomeCol18_24 because of high number of null values\n",
    "# see if PctEmployed16_Over is inverse with PctUnemployed16_Over (NaN in first means in second?)\n",
    "# PctPrivateCoverageAlone + PctEmpPrivCoverage should = private coverage? Coverage accounted for twice with these variables?"
   ]
  },
  {
   "cell_type": "code",
   "execution_count": 4,
   "metadata": {},
   "outputs": [
    {
     "name": "stdout",
     "output_type": "stream",
     "text": [
      "PctBachDeg18_24     6.168315\n",
      "PctNoHS18_24       18.274136\n",
      "PctHS18_24         35.063457\n",
      "dtype: float64\n",
      "PctBachDeg18_24     6.158287\n",
      "PctNoHS18_24       18.224450\n",
      "PctHS18_24         35.002068\n",
      "dtype: float64\n"
     ]
    }
   ],
   "source": [
    "print(df[df['PctSomeCol18_24'].isna()][['PctBachDeg18_24', 'PctNoHS18_24', 'PctHS18_24']].mean())\n",
    "print(df[['PctBachDeg18_24', 'PctNoHS18_24', 'PctHS18_24']].mean())\n",
    "        "
   ]
  },
  {
   "cell_type": "code",
   "execution_count": 84,
   "metadata": {},
   "outputs": [
    {
     "name": "stdout",
     "output_type": "stream",
     "text": [
      "40.9770341207349\n",
      "79.0\n",
      "7.1\n"
     ]
    }
   ],
   "source": [
    "# nearly the same average of bachelor degrees and no high school whether or not some college is a null value\n",
    "print(df['PctSomeCol18_24'].mean())\n",
    "print(df['PctSomeCol18_24'].max())\n",
    "print(df['PctSomeCol18_24'].min())"
   ]
  },
  {
   "cell_type": "code",
   "execution_count": 5,
   "metadata": {},
   "outputs": [
    {
     "data": {
      "text/plain": [
       "<matplotlib.axes._subplots.AxesSubplot at 0x1a0fdf4b70>"
      ]
     },
     "execution_count": 5,
     "metadata": {},
     "output_type": "execute_result"
    },
    {
     "data": {
      "image/png": "[encoded data removed]",
      "text/plain": [
       "<Figure size 432x288 with 1 Axes>"
      ]
     },
     "metadata": {
      "needs_background": "light"
     },
     "output_type": "display_data"
    }
   ],
   "source": [
    "df['PctSomeCol18_24'].plot.hist()"
   ]
  },
  {
   "cell_type": "code",
   "execution_count": 6,
   "metadata": {},
   "outputs": [
    {
     "data": {
      "text/plain": [
       "<matplotlib.axes._subplots.AxesSubplot at 0x10377db70>"
      ]
     },
     "execution_count": 6,
     "metadata": {},
     "output_type": "execute_result"
    },
    {
     "data": {
      "image/png": "[encoded data removed]",
      "text/plain": [
       "<Figure size 432x288 with 1 Axes>"
      ]
     },
     "metadata": {
      "needs_background": "light"
     },
     "output_type": "display_data"
    }
   ],
   "source": [
    "df['PctSomeCol18_24'].plot.box()"
   ]
  },
  {
   "cell_type": "code",
   "execution_count": 7,
   "metadata": {},
   "outputs": [
    {
     "data": {
      "text/plain": [
       "<matplotlib.collections.PathCollection at 0x1a100b2940>"
      ]
     },
     "execution_count": 7,
     "metadata": {},
     "output_type": "execute_result"
    },
    {
     "data": {
      "image/png": "[encoded data removed]",
      "text/plain": [
       "<Figure size 432x288 with 1 Axes>"
      ]
     },
     "metadata": {
      "needs_background": "light"
     },
     "output_type": "display_data"
    }
   ],
   "source": [
    "# both the box plot and histagram show a normal distribution for this variable\n",
    "import matplotlib.pyplot as plt\n",
    "\n",
    "plt.scatter(df['PctSomeCol18_24'], df['PctBachDeg18_24'])"
   ]
  },
  {
   "cell_type": "code",
   "execution_count": 8,
   "metadata": {},
   "outputs": [
    {
     "name": "stdout",
     "output_type": "stream",
     "text": [
      "not possible\n",
      "100.10000000000001\n",
      "not possible\n",
      "100.10000000000001\n",
      "not possible\n",
      "100.1\n",
      "not possible\n",
      "100.1\n",
      "not possible\n",
      "100.1\n",
      "not possible\n",
      "100.1\n",
      "not possible\n",
      "100.1\n",
      "not possible\n",
      "100.1\n",
      "not possible\n",
      "100.1\n",
      "not possible\n",
      "100.1\n",
      "not possible\n",
      "100.1\n",
      "not possible\n",
      "100.10000000000001\n",
      "not possible\n",
      "100.1\n",
      "not possible\n",
      "100.1\n",
      "not possible\n",
      "100.1\n",
      "not possible\n",
      "100.1\n",
      "not possible\n",
      "100.10000000000001\n",
      "not possible\n",
      "100.1\n",
      "not possible\n",
      "100.1\n",
      "not possible\n",
      "100.1\n",
      "not possible\n",
      "100.1\n",
      "not possible\n",
      "100.00000000000001\n",
      "not possible\n",
      "100.1\n",
      "not possible\n",
      "100.1\n",
      "not possible\n",
      "100.10000000000001\n",
      "not possible\n",
      "100.10000000000001\n",
      "not possible\n",
      "100.1\n",
      "not possible\n",
      "100.1\n",
      "not possible\n",
      "100.1\n",
      "not possible\n",
      "100.1\n",
      "not possible\n",
      "100.10000000000001\n",
      "not possible\n",
      "100.1\n",
      "not possible\n",
      "100.1\n",
      "not possible\n",
      "100.1\n",
      "not possible\n",
      "100.1\n",
      "not possible\n",
      "100.1\n",
      "not possible\n",
      "100.1\n",
      "not possible\n",
      "100.1\n",
      "not possible\n",
      "100.1\n",
      "not possible\n",
      "100.1\n",
      "not possible\n",
      "100.00000000000001\n",
      "not possible\n",
      "100.1\n",
      "not possible\n",
      "100.1\n",
      "not possible\n",
      "100.1\n",
      "not possible\n",
      "100.1\n",
      "not possible\n",
      "100.1\n",
      "not possible\n",
      "100.1\n",
      "not possible\n",
      "100.1\n",
      "not possible\n",
      "100.1\n",
      "not possible\n",
      "100.00000000000001\n",
      "not possible\n",
      "100.1\n",
      "not possible\n",
      "100.1\n",
      "not possible\n",
      "100.1\n",
      "not possible\n",
      "100.1\n",
      "not possible\n",
      "100.1\n",
      "not possible\n",
      "100.1\n",
      "not possible\n",
      "100.10000000000001\n",
      "not possible\n",
      "100.1\n",
      "not possible\n",
      "100.10000000000001\n",
      "not possible\n",
      "100.1\n",
      "not possible\n",
      "100.1\n",
      "not possible\n",
      "100.1\n",
      "not possible\n",
      "100.1\n",
      "not possible\n",
      "100.1\n",
      "not possible\n",
      "100.1\n",
      "not possible\n",
      "100.1\n",
      "not possible\n",
      "100.10000000000001\n",
      "not possible\n",
      "100.1\n",
      "not possible\n",
      "100.1\n",
      "not possible\n",
      "100.00000000000001\n",
      "not possible\n",
      "100.1\n",
      "not possible\n",
      "100.1\n",
      "not possible\n",
      "100.1\n",
      "not possible\n",
      "100.1\n",
      "not possible\n",
      "100.1\n",
      "not possible\n",
      "100.1\n",
      "not possible\n",
      "100.1\n",
      "not possible\n",
      "100.1\n",
      "not possible\n",
      "100.1\n",
      "not possible\n",
      "100.1\n",
      "not possible\n",
      "100.10000000000001\n",
      "not possible\n",
      "100.1\n",
      "not possible\n",
      "100.1\n",
      "not possible\n",
      "100.00000000000001\n",
      "not possible\n",
      "100.1\n",
      "not possible\n",
      "100.1\n",
      "not possible\n",
      "100.10000000000001\n",
      "not possible\n",
      "100.1\n",
      "not possible\n",
      "100.1\n",
      "not possible\n",
      "100.1\n",
      "not possible\n",
      "100.1\n",
      "not possible\n",
      "100.1\n",
      "not possible\n",
      "100.1\n",
      "not possible\n",
      "100.1\n",
      "not possible\n",
      "100.10000000000001\n",
      "not possible\n",
      "100.10000000000001\n",
      "not possible\n",
      "100.1\n",
      "not possible\n",
      "100.1\n",
      "not possible\n",
      "100.10000000000001\n",
      "not possible\n",
      "100.10000000000001\n",
      "not possible\n",
      "100.00000000000001\n",
      "not possible\n",
      "100.1\n",
      "not possible\n",
      "100.1\n",
      "not possible\n",
      "100.1\n",
      "not possible\n",
      "100.1\n",
      "not possible\n",
      "100.1\n",
      "not possible\n",
      "100.1\n",
      "not possible\n",
      "100.10000000000001\n",
      "not possible\n",
      "100.1\n",
      "not possible\n",
      "100.1\n",
      "not possible\n",
      "100.1\n",
      "not possible\n",
      "100.1\n",
      "not possible\n",
      "100.1\n",
      "not possible\n",
      "100.00000000000001\n",
      "not possible\n",
      "100.1\n",
      "not possible\n",
      "100.1\n",
      "not possible\n",
      "100.1\n",
      "not possible\n",
      "100.00000000000001\n",
      "not possible\n",
      "100.1\n",
      "not possible\n",
      "100.10000000000001\n",
      "not possible\n",
      "100.00000000000001\n",
      "not possible\n",
      "100.1\n",
      "not possible\n",
      "100.1\n",
      "not possible\n",
      "100.1\n",
      "not possible\n",
      "100.1\n",
      "not possible\n",
      "100.10000000000001\n"
     ]
    }
   ],
   "source": [
    "for value in (df['PctBachDeg18_24'] + df['PctNoHS18_24'] + df['PctHS18_24'] + df['PctSomeCol18_24']):\n",
    "    if value > 100:\n",
    "        print('not possible')\n",
    "        print(value)"
   ]
  },
  {
   "cell_type": "code",
   "execution_count": 9,
   "metadata": {},
   "outputs": [],
   "source": [
    "# we can assume these values are over 100 due to the rounding of the other values\n",
    "# because most of the some college data is missing and this number is accounted for in the other columns, it would be best to drop this column\n",
    "\n",
    "df.drop(columns=['PctSomeCol18_24'], inplace=True)"
   ]
  },
  {
   "cell_type": "code",
   "execution_count": 10,
   "metadata": {},
   "outputs": [],
   "source": [
    "# check to make sure % of highest degree as hs and bachelor degree does not exceed 100\n",
    "\n",
    "for value in (df['PctHS25_Over'] + df['PctBachDeg25_Over']):\n",
    "    if value > 100:\n",
    "        print('not possible')"
   ]
  },
  {
   "cell_type": "code",
   "execution_count": 11,
   "metadata": {},
   "outputs": [],
   "source": [
    "# we also want to use this function for checking unemployed and employed numbers\n",
    "# this shouldn't exceed 100 because people cannot be both unemployed and employed\n",
    "\n",
    "for value in (df['PctEmployed16_Over'] + df['PctUnemployed16_Over']):\n",
    "    if value > 100:\n",
    "        print('not possible')"
   ]
  },
  {
   "cell_type": "code",
   "execution_count": 12,
   "metadata": {},
   "outputs": [
    {
     "data": {
      "text/plain": [
       "<matplotlib.axes._subplots.AxesSubplot at 0x1a1018d208>"
      ]
     },
     "execution_count": 12,
     "metadata": {},
     "output_type": "execute_result"
    },
    {
     "data": {
      "image/png": "[encoded data removed]",
      "text/plain": [
       "<Figure size 432x288 with 1 Axes>"
      ]
     },
     "metadata": {
      "needs_background": "light"
     },
     "output_type": "display_data"
    }
   ],
   "source": [
    "df['PctEmployed16_Over'].plot.box()"
   ]
  },
  {
   "cell_type": "code",
   "execution_count": 13,
   "metadata": {},
   "outputs": [
    {
     "data": {
      "text/plain": [
       "<matplotlib.axes._subplots.AxesSubplot at 0x1a10383ba8>"
      ]
     },
     "execution_count": 13,
     "metadata": {},
     "output_type": "execute_result"
    },
    {
     "data": {
      "image/png": "[encoded data removed]",
      "text/plain": [
       "<Figure size 432x288 with 1 Axes>"
      ]
     },
     "metadata": {
      "needs_background": "light"
     },
     "output_type": "display_data"
    }
   ],
   "source": [
    "df['PctEmployed16_Over'].plot.hist()"
   ]
  },
  {
   "cell_type": "code",
   "execution_count": 14,
   "metadata": {},
   "outputs": [
    {
     "data": {
      "text/plain": [
       "<matplotlib.collections.PathCollection at 0x1a105352b0>"
      ]
     },
     "execution_count": 14,
     "metadata": {},
     "output_type": "execute_result"
    },
    {
     "data": {
      "image/png": "[encoded data removed]",
      "text/plain": [
       "<Figure size 432x288 with 1 Axes>"
      ]
     },
     "metadata": {
      "needs_background": "light"
     },
     "output_type": "display_data"
    }
   ],
   "source": [
    "plt.scatter(df['PctEmployed16_Over'], df['PctUnemployed16_Over'])"
   ]
  },
  {
   "cell_type": "code",
   "execution_count": 15,
   "metadata": {},
   "outputs": [
    {
     "data": {
      "text/plain": [
       "LinearRegression(copy_X=True, fit_intercept=True, n_jobs=1, normalize=False)"
      ]
     },
     "execution_count": 15,
     "metadata": {},
     "output_type": "execute_result"
    }
   ],
   "source": [
    "import numpy as np\n",
    "from sklearn.linear_model import LinearRegression\n",
    "from sklearn.model_selection import train_test_split\n",
    "\n",
    "df_wo_nulls = df[df['PctEmployed16_Over'].notna()][['PctEmployed16_Over', 'PctUnemployed16_Over']]\n",
    "\n",
    "X_train, X_test, y_train, y_test = train_test_split(df_wo_nulls['PctEmployed16_Over'].values.reshape(-1,1), df_wo_nulls['PctUnemployed16_Over'].values.reshape(-1,1))\n",
    "\n",
    "model = LinearRegression()\n",
    "\n",
    "model.fit(X_train, y_train)"
   ]
  },
  {
   "cell_type": "code",
   "execution_count": 24,
   "metadata": {},
   "outputs": [],
   "source": [
    "y_predict = model.predict(X_test)"
   ]
  },
  {
   "cell_type": "code",
   "execution_count": 38,
   "metadata": {},
   "outputs": [
    {
     "name": "stdout",
     "output_type": "stream",
     "text": [
      "0.41128137123521435\n",
      "5.725518098060478\n"
     ]
    }
   ],
   "source": [
    "from sklearn.metrics import r2_score\n",
    "from sklearn.metrics import mean_squared_error\n",
    "print(r2_score(y_test, y_predict))\n",
    "# this r squared coefficient indicates that this linear model is a poor fit of the data\n",
    "\n",
    "print(mean_squared_error(y_test, y_predict))\n",
    "# high standard deviation of the variance in the difference"
   ]
  },
  {
   "cell_type": "code",
   "execution_count": 95,
   "metadata": {},
   "outputs": [
    {
     "data": {
      "text/plain": [
       "0"
      ]
     },
     "execution_count": 95,
     "metadata": {},
     "output_type": "execute_result"
    }
   ],
   "source": [
    "employed_16_mean = df['PctEmployed16_Over'].mean()\n",
    "\n",
    "# replace na values with mean of the column since it is normally distributed \n",
    "df['PctEmployed16_Over'].fillna(employed_16_mean, inplace=True)\n",
    "\n",
    "df['PctEmployed16_Over'].isna().sum()"
   ]
  },
  {
   "cell_type": "code",
   "execution_count": null,
   "metadata": {},
   "outputs": [],
   "source": []
  }
 ],
 "metadata": {
  "kernelspec": {
   "display_name": "Python 3",
   "language": "python",
   "name": "python3"
  },
  "language_info": {
   "codemirror_mode": {
    "name": "ipython",
    "version": 3
   },
   "file_extension": ".py",
   "mimetype": "text/x-python",
   "name": "python",
   "nbconvert_exporter": "python",
   "pygments_lexer": "ipython3",
   "version": "3.7.0"
  }
 },
 "nbformat": 4,
 "nbformat_minor": 2
}
